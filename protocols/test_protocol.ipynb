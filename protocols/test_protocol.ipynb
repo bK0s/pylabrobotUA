{
 "cells": [
  {
   "cell_type": "code",
   "execution_count": null,
   "metadata": {},
   "outputs": [],
   "source": [
    "from pylabrobot.liquid_handling import LiquidHandler\n",
    "from pylabrobot.liquid_handling.backends import LiquidHandlerChatterboxBackend\n",
    "from pylabrobot.visualizer.visualizer import Visualizer\n"
   ]
  },
  {
   "cell_type": "code",
   "execution_count": null,
   "metadata": {},
   "outputs": [],
   "source": [
    "from pylabrobot.resources.tecan import EVO200Deck\n",
    "from pylabrobot.resources.hamilton import STARLetDeck"
   ]
  },
  {
   "cell_type": "code",
   "execution_count": null,
   "metadata": {},
   "outputs": [],
   "source": [
    "lh = LiquidHandler(backend=LiquidHandlerChatterboxBackend(), deck=EVO200Deck())\n",
    "\n",
    "await lh.setup()"
   ]
  },
  {
   "cell_type": "code",
   "execution_count": null,
   "metadata": {},
   "outputs": [],
   "source": [
    "vis = Visualizer(resource=lh)\n",
    "await vis.setup()"
   ]
  },
  {
   "cell_type": "code",
   "execution_count": null,
   "metadata": {},
   "outputs": [],
   "source": [
    "from pylabrobot.resources import (\n",
    "    DiTi_3Pos, # Tip Carrier\n",
    "    Wash_Station, # Wash station\n",
    "    PLT_CAR_L5AC_A00,\n",
    "    Cor_96_wellplate_360ul_Fb,\n",
    "    HTF\n",
    ")"
   ]
  },
  {
   "cell_type": "code",
   "execution_count": null,
   "metadata": {},
   "outputs": [],
   "source": [
    "tip_car = DiTi_3Pos(name='tip carrier')\n",
    "tip_car[0] = tip_rack1 = HTF(name='tips_01', with_tips=False)\n",
    "tip_car[1] = tip_rack2 = HTF(name='tips_02', with_tips=False)\n",
    "tip_car[2] = tip_rack3 = HTF(name='tips_03', with_tips=False)\n"
   ]
  },
  {
   "cell_type": "code",
   "execution_count": null,
   "metadata": {},
   "outputs": [],
   "source": [
    "# wash_station = Wash_Station(name='wash station')\n",
    "# print(lh.deck.get_all_resources())\n",
    "wash_station = lh.deck.get_resource(name='wash_station')\n",
    "# lh.deck.assign_child_resource(wash_station, rails=38)\n"
   ]
  },
  {
   "cell_type": "code",
   "execution_count": null,
   "metadata": {},
   "outputs": [],
   "source": [
    "lh.deck.assign_child_resource(tip_car, rails=15)"
   ]
  },
  {
   "cell_type": "code",
   "execution_count": null,
   "metadata": {},
   "outputs": [],
   "source": []
  }
 ],
 "metadata": {
  "kernelspec": {
   "display_name": "env",
   "language": "python",
   "name": "python3"
  },
  "language_info": {
   "codemirror_mode": {
    "name": "ipython",
    "version": 3
   },
   "file_extension": ".py",
   "mimetype": "text/x-python",
   "name": "python",
   "nbconvert_exporter": "python",
   "pygments_lexer": "ipython3",
   "version": "3.13.2"
  }
 },
 "nbformat": 4,
 "nbformat_minor": 2
}
